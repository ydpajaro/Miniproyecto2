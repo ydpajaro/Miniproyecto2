{
  "nbformat": 4,
  "nbformat_minor": 0,
  "metadata": {
    "colab": {
      "provenance": [],
      "include_colab_link": true
    },
    "kernelspec": {
      "name": "python3",
      "display_name": "Python 3"
    },
    "language_info": {
      "name": "python"
    },
    "widgets": {
      "application/vnd.jupyter.widget-state+json": {
        "81f71fc419c849249b27c1eb95891f31": {
          "model_module": "@jupyter-widgets/controls",
          "model_name": "VBoxModel",
          "model_module_version": "1.5.0",
          "state": {
            "_dom_classes": [
              "widget-interact"
            ],
            "_model_module": "@jupyter-widgets/controls",
            "_model_module_version": "1.5.0",
            "_model_name": "VBoxModel",
            "_view_count": null,
            "_view_module": "@jupyter-widgets/controls",
            "_view_module_version": "1.5.0",
            "_view_name": "VBoxView",
            "box_style": "",
            "children": [
              "IPY_MODEL_6d035d7bfa0344e4866f8cbfba7d3976",
              "IPY_MODEL_f3b3ddcb7ab8421e8238a292693c56a3"
            ],
            "layout": "IPY_MODEL_896563325baa40fcaa6d5328d6acbc94"
          }
        },
        "6d035d7bfa0344e4866f8cbfba7d3976": {
          "model_module": "@jupyter-widgets/controls",
          "model_name": "DropdownModel",
          "model_module_version": "1.5.0",
          "state": {
            "_dom_classes": [],
            "_model_module": "@jupyter-widgets/controls",
            "_model_module_version": "1.5.0",
            "_model_name": "DropdownModel",
            "_options_labels": [
              "2",
              "3",
              "4",
              "5",
              "6",
              "7",
              "8",
              "9",
              "10",
              "11",
              "12",
              "13",
              "14",
              "15",
              "16",
              "17",
              "18",
              "19"
            ],
            "_view_count": null,
            "_view_module": "@jupyter-widgets/controls",
            "_view_module_version": "1.5.0",
            "_view_name": "DropdownView",
            "description": "n_components",
            "description_tooltip": null,
            "disabled": false,
            "index": 0,
            "layout": "IPY_MODEL_9f2a81bae747451a9439007e3fad9988",
            "style": "IPY_MODEL_ae7897024e4b4f3e9953b3278c2deb29"
          }
        },
        "f3b3ddcb7ab8421e8238a292693c56a3": {
          "model_module": "@jupyter-widgets/output",
          "model_name": "OutputModel",
          "model_module_version": "1.0.0",
          "state": {
            "_dom_classes": [],
            "_model_module": "@jupyter-widgets/output",
            "_model_module_version": "1.0.0",
            "_model_name": "OutputModel",
            "_view_count": null,
            "_view_module": "@jupyter-widgets/output",
            "_view_module_version": "1.0.0",
            "_view_name": "OutputView",
            "layout": "IPY_MODEL_5aa592af84334227a8a2544006933efe",
            "msg_id": "",
            "outputs": []
          }
        },
        "896563325baa40fcaa6d5328d6acbc94": {
          "model_module": "@jupyter-widgets/base",
          "model_name": "LayoutModel",
          "model_module_version": "1.2.0",
          "state": {
            "_model_module": "@jupyter-widgets/base",
            "_model_module_version": "1.2.0",
            "_model_name": "LayoutModel",
            "_view_count": null,
            "_view_module": "@jupyter-widgets/base",
            "_view_module_version": "1.2.0",
            "_view_name": "LayoutView",
            "align_content": null,
            "align_items": null,
            "align_self": null,
            "border": null,
            "bottom": null,
            "display": null,
            "flex": null,
            "flex_flow": null,
            "grid_area": null,
            "grid_auto_columns": null,
            "grid_auto_flow": null,
            "grid_auto_rows": null,
            "grid_column": null,
            "grid_gap": null,
            "grid_row": null,
            "grid_template_areas": null,
            "grid_template_columns": null,
            "grid_template_rows": null,
            "height": null,
            "justify_content": null,
            "justify_items": null,
            "left": null,
            "margin": null,
            "max_height": null,
            "max_width": null,
            "min_height": null,
            "min_width": null,
            "object_fit": null,
            "object_position": null,
            "order": null,
            "overflow": null,
            "overflow_x": null,
            "overflow_y": null,
            "padding": null,
            "right": null,
            "top": null,
            "visibility": null,
            "width": null
          }
        },
        "9f2a81bae747451a9439007e3fad9988": {
          "model_module": "@jupyter-widgets/base",
          "model_name": "LayoutModel",
          "model_module_version": "1.2.0",
          "state": {
            "_model_module": "@jupyter-widgets/base",
            "_model_module_version": "1.2.0",
            "_model_name": "LayoutModel",
            "_view_count": null,
            "_view_module": "@jupyter-widgets/base",
            "_view_module_version": "1.2.0",
            "_view_name": "LayoutView",
            "align_content": null,
            "align_items": null,
            "align_self": null,
            "border": null,
            "bottom": null,
            "display": null,
            "flex": null,
            "flex_flow": null,
            "grid_area": null,
            "grid_auto_columns": null,
            "grid_auto_flow": null,
            "grid_auto_rows": null,
            "grid_column": null,
            "grid_gap": null,
            "grid_row": null,
            "grid_template_areas": null,
            "grid_template_columns": null,
            "grid_template_rows": null,
            "height": null,
            "justify_content": null,
            "justify_items": null,
            "left": null,
            "margin": null,
            "max_height": null,
            "max_width": null,
            "min_height": null,
            "min_width": null,
            "object_fit": null,
            "object_position": null,
            "order": null,
            "overflow": null,
            "overflow_x": null,
            "overflow_y": null,
            "padding": null,
            "right": null,
            "top": null,
            "visibility": null,
            "width": null
          }
        },
        "ae7897024e4b4f3e9953b3278c2deb29": {
          "model_module": "@jupyter-widgets/controls",
          "model_name": "DescriptionStyleModel",
          "model_module_version": "1.5.0",
          "state": {
            "_model_module": "@jupyter-widgets/controls",
            "_model_module_version": "1.5.0",
            "_model_name": "DescriptionStyleModel",
            "_view_count": null,
            "_view_module": "@jupyter-widgets/base",
            "_view_module_version": "1.2.0",
            "_view_name": "StyleView",
            "description_width": ""
          }
        },
        "5aa592af84334227a8a2544006933efe": {
          "model_module": "@jupyter-widgets/base",
          "model_name": "LayoutModel",
          "model_module_version": "1.2.0",
          "state": {
            "_model_module": "@jupyter-widgets/base",
            "_model_module_version": "1.2.0",
            "_model_name": "LayoutModel",
            "_view_count": null,
            "_view_module": "@jupyter-widgets/base",
            "_view_module_version": "1.2.0",
            "_view_name": "LayoutView",
            "align_content": null,
            "align_items": null,
            "align_self": null,
            "border": null,
            "bottom": null,
            "display": null,
            "flex": null,
            "flex_flow": null,
            "grid_area": null,
            "grid_auto_columns": null,
            "grid_auto_flow": null,
            "grid_auto_rows": null,
            "grid_column": null,
            "grid_gap": null,
            "grid_row": null,
            "grid_template_areas": null,
            "grid_template_columns": null,
            "grid_template_rows": null,
            "height": null,
            "justify_content": null,
            "justify_items": null,
            "left": null,
            "margin": null,
            "max_height": null,
            "max_width": null,
            "min_height": null,
            "min_width": null,
            "object_fit": null,
            "object_position": null,
            "order": null,
            "overflow": null,
            "overflow_x": null,
            "overflow_y": null,
            "padding": null,
            "right": null,
            "top": null,
            "visibility": null,
            "width": null
          }
        },
        "48ddb7afa1fd49bba3d07f14553c8d3b": {
          "model_module": "@jupyter-widgets/controls",
          "model_name": "VBoxModel",
          "model_module_version": "1.5.0",
          "state": {
            "_dom_classes": [
              "widget-interact"
            ],
            "_model_module": "@jupyter-widgets/controls",
            "_model_module_version": "1.5.0",
            "_model_name": "VBoxModel",
            "_view_count": null,
            "_view_module": "@jupyter-widgets/controls",
            "_view_module_version": "1.5.0",
            "_view_name": "VBoxView",
            "box_style": "",
            "children": [
              "IPY_MODEL_1807b716efb1409aa3df6898c1eaa0b0",
              "IPY_MODEL_ca0822079895488780dcce7c7fe68a2f",
              "IPY_MODEL_60843bf06b634dbeaccb58e944e9af7c"
            ],
            "layout": "IPY_MODEL_01284ced2a634764ad68d37e313e9bfa"
          }
        },
        "1807b716efb1409aa3df6898c1eaa0b0": {
          "model_module": "@jupyter-widgets/controls",
          "model_name": "IntSliderModel",
          "model_module_version": "1.5.0",
          "state": {
            "_dom_classes": [],
            "_model_module": "@jupyter-widgets/controls",
            "_model_module_version": "1.5.0",
            "_model_name": "IntSliderModel",
            "_view_count": null,
            "_view_module": "@jupyter-widgets/controls",
            "_view_module_version": "1.5.0",
            "_view_name": "IntSliderView",
            "continuous_update": false,
            "description": "Componentes:",
            "description_tooltip": null,
            "disabled": false,
            "layout": "IPY_MODEL_3c76af975b36460e98348ebb2de55346",
            "max": 19,
            "min": 0,
            "orientation": "horizontal",
            "readout": true,
            "readout_format": "d",
            "step": 1,
            "style": "IPY_MODEL_19d33d5b33a54ed3870b7d486e136735",
            "value": 5
          }
        },
        "ca0822079895488780dcce7c7fe68a2f": {
          "model_module": "@jupyter-widgets/controls",
          "model_name": "FloatSliderModel",
          "model_module_version": "1.5.0",
          "state": {
            "_dom_classes": [],
            "_model_module": "@jupyter-widgets/controls",
            "_model_module_version": "1.5.0",
            "_model_name": "FloatSliderModel",
            "_view_count": null,
            "_view_module": "@jupyter-widgets/controls",
            "_view_module_version": "1.5.0",
            "_view_name": "FloatSliderView",
            "continuous_update": false,
            "description": "Test:",
            "description_tooltip": null,
            "disabled": false,
            "layout": "IPY_MODEL_0b02d3dc3ebc4592a80f2f71f7a9f177",
            "max": 0.5,
            "min": 0.1,
            "orientation": "horizontal",
            "readout": true,
            "readout_format": ".1f",
            "step": 0.1,
            "style": "IPY_MODEL_50de921bfb4e4979a7c13b1ecd9762bf",
            "value": 0.3
          }
        },
        "60843bf06b634dbeaccb58e944e9af7c": {
          "model_module": "@jupyter-widgets/output",
          "model_name": "OutputModel",
          "model_module_version": "1.0.0",
          "state": {
            "_dom_classes": [],
            "_model_module": "@jupyter-widgets/output",
            "_model_module_version": "1.0.0",
            "_model_name": "OutputModel",
            "_view_count": null,
            "_view_module": "@jupyter-widgets/output",
            "_view_module_version": "1.0.0",
            "_view_name": "OutputView",
            "layout": "IPY_MODEL_7cd118c4d6c3485e990251933603018c",
            "msg_id": "",
            "outputs": [
              {
                "output_type": "stream",
                "name": "stdout",
                "text": [
                  "Acc para el modelo Bayesiano:  0.3333333333333333\n",
                  "Acc para el modelo de Regresión Logística:  0.2982456140350877\n"
                ]
              },
              {
                "output_type": "display_data",
                "data": {
                  "text/plain": "<Figure size 640x480 with 2 Axes>",
                  "image/png": "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\n"
                },
                "metadata": {}
              },
              {
                "output_type": "display_data",
                "data": {
                  "text/plain": "<Figure size 640x480 with 2 Axes>",
                  "image/png": "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\n"
                },
                "metadata": {}
              }
            ]
          }
        },
        "01284ced2a634764ad68d37e313e9bfa": {
          "model_module": "@jupyter-widgets/base",
          "model_name": "LayoutModel",
          "model_module_version": "1.2.0",
          "state": {
            "_model_module": "@jupyter-widgets/base",
            "_model_module_version": "1.2.0",
            "_model_name": "LayoutModel",
            "_view_count": null,
            "_view_module": "@jupyter-widgets/base",
            "_view_module_version": "1.2.0",
            "_view_name": "LayoutView",
            "align_content": null,
            "align_items": null,
            "align_self": null,
            "border": null,
            "bottom": null,
            "display": null,
            "flex": null,
            "flex_flow": null,
            "grid_area": null,
            "grid_auto_columns": null,
            "grid_auto_flow": null,
            "grid_auto_rows": null,
            "grid_column": null,
            "grid_gap": null,
            "grid_row": null,
            "grid_template_areas": null,
            "grid_template_columns": null,
            "grid_template_rows": null,
            "height": null,
            "justify_content": null,
            "justify_items": null,
            "left": null,
            "margin": null,
            "max_height": null,
            "max_width": null,
            "min_height": null,
            "min_width": null,
            "object_fit": null,
            "object_position": null,
            "order": null,
            "overflow": null,
            "overflow_x": null,
            "overflow_y": null,
            "padding": null,
            "right": null,
            "top": null,
            "visibility": null,
            "width": null
          }
        },
        "3c76af975b36460e98348ebb2de55346": {
          "model_module": "@jupyter-widgets/base",
          "model_name": "LayoutModel",
          "model_module_version": "1.2.0",
          "state": {
            "_model_module": "@jupyter-widgets/base",
            "_model_module_version": "1.2.0",
            "_model_name": "LayoutModel",
            "_view_count": null,
            "_view_module": "@jupyter-widgets/base",
            "_view_module_version": "1.2.0",
            "_view_name": "LayoutView",
            "align_content": null,
            "align_items": null,
            "align_self": null,
            "border": null,
            "bottom": null,
            "display": null,
            "flex": null,
            "flex_flow": null,
            "grid_area": null,
            "grid_auto_columns": null,
            "grid_auto_flow": null,
            "grid_auto_rows": null,
            "grid_column": null,
            "grid_gap": null,
            "grid_row": null,
            "grid_template_areas": null,
            "grid_template_columns": null,
            "grid_template_rows": null,
            "height": null,
            "justify_content": null,
            "justify_items": null,
            "left": null,
            "margin": null,
            "max_height": null,
            "max_width": null,
            "min_height": null,
            "min_width": null,
            "object_fit": null,
            "object_position": null,
            "order": null,
            "overflow": null,
            "overflow_x": null,
            "overflow_y": null,
            "padding": null,
            "right": null,
            "top": null,
            "visibility": null,
            "width": null
          }
        },
        "19d33d5b33a54ed3870b7d486e136735": {
          "model_module": "@jupyter-widgets/controls",
          "model_name": "SliderStyleModel",
          "model_module_version": "1.5.0",
          "state": {
            "_model_module": "@jupyter-widgets/controls",
            "_model_module_version": "1.5.0",
            "_model_name": "SliderStyleModel",
            "_view_count": null,
            "_view_module": "@jupyter-widgets/base",
            "_view_module_version": "1.2.0",
            "_view_name": "StyleView",
            "description_width": "",
            "handle_color": null
          }
        },
        "0b02d3dc3ebc4592a80f2f71f7a9f177": {
          "model_module": "@jupyter-widgets/base",
          "model_name": "LayoutModel",
          "model_module_version": "1.2.0",
          "state": {
            "_model_module": "@jupyter-widgets/base",
            "_model_module_version": "1.2.0",
            "_model_name": "LayoutModel",
            "_view_count": null,
            "_view_module": "@jupyter-widgets/base",
            "_view_module_version": "1.2.0",
            "_view_name": "LayoutView",
            "align_content": null,
            "align_items": null,
            "align_self": null,
            "border": null,
            "bottom": null,
            "display": null,
            "flex": null,
            "flex_flow": null,
            "grid_area": null,
            "grid_auto_columns": null,
            "grid_auto_flow": null,
            "grid_auto_rows": null,
            "grid_column": null,
            "grid_gap": null,
            "grid_row": null,
            "grid_template_areas": null,
            "grid_template_columns": null,
            "grid_template_rows": null,
            "height": null,
            "justify_content": null,
            "justify_items": null,
            "left": null,
            "margin": null,
            "max_height": null,
            "max_width": null,
            "min_height": null,
            "min_width": null,
            "object_fit": null,
            "object_position": null,
            "order": null,
            "overflow": null,
            "overflow_x": null,
            "overflow_y": null,
            "padding": null,
            "right": null,
            "top": null,
            "visibility": null,
            "width": null
          }
        },
        "50de921bfb4e4979a7c13b1ecd9762bf": {
          "model_module": "@jupyter-widgets/controls",
          "model_name": "SliderStyleModel",
          "model_module_version": "1.5.0",
          "state": {
            "_model_module": "@jupyter-widgets/controls",
            "_model_module_version": "1.5.0",
            "_model_name": "SliderStyleModel",
            "_view_count": null,
            "_view_module": "@jupyter-widgets/base",
            "_view_module_version": "1.2.0",
            "_view_name": "StyleView",
            "description_width": "",
            "handle_color": null
          }
        },
        "7cd118c4d6c3485e990251933603018c": {
          "model_module": "@jupyter-widgets/base",
          "model_name": "LayoutModel",
          "model_module_version": "1.2.0",
          "state": {
            "_model_module": "@jupyter-widgets/base",
            "_model_module_version": "1.2.0",
            "_model_name": "LayoutModel",
            "_view_count": null,
            "_view_module": "@jupyter-widgets/base",
            "_view_module_version": "1.2.0",
            "_view_name": "LayoutView",
            "align_content": null,
            "align_items": null,
            "align_self": null,
            "border": null,
            "bottom": null,
            "display": null,
            "flex": null,
            "flex_flow": null,
            "grid_area": null,
            "grid_auto_columns": null,
            "grid_auto_flow": null,
            "grid_auto_rows": null,
            "grid_column": null,
            "grid_gap": null,
            "grid_row": null,
            "grid_template_areas": null,
            "grid_template_columns": null,
            "grid_template_rows": null,
            "height": null,
            "justify_content": null,
            "justify_items": null,
            "left": null,
            "margin": null,
            "max_height": null,
            "max_width": null,
            "min_height": null,
            "min_width": null,
            "object_fit": null,
            "object_position": null,
            "order": null,
            "overflow": null,
            "overflow_x": null,
            "overflow_y": null,
            "padding": null,
            "right": null,
            "top": null,
            "visibility": null,
            "width": null
          }
        }
      }
    }
  },
  "cells": [
    {
      "cell_type": "markdown",
      "metadata": {
        "id": "view-in-github",
        "colab_type": "text"
      },
      "source": [
        "<a href=\"https://colab.research.google.com/github/ydpajaro/Miniproyecto2/blob/main/miniproyecto2.ipynb\" target=\"_parent\"><img src=\"https://colab.research.google.com/assets/colab-badge.svg\" alt=\"Open In Colab\"/></a>"
      ]
    },
    {
      "cell_type": "markdown",
      "source": [
        "1. Para el sistema de Análisis Multivariado de Señales Sismográficas obtenido en el Primer Mini-Proyecto, se debe construir un módulo de variable latente utilizando el algorítmo de PCA. La idea es proyectar la matriz característica obtenida $\\mathbf{X} \\in \\mathbb{R}^{N \\times D}$, a un espacio latente de menor dimensión $q<<D$, de tal forma que los nuevos datos en este espacio sean $\\mathbf{Z} \\in \\mathbb{R}^{N \\times q}$. Selecciones diferentes configuraciones del número de componentes $q$ y evalúe el mejor desempeño arrojado por el modelo midiendo, el accuracy y la matriz de confusión. Para ellos:\n",
        "\n",
        "  (a) Realice la visualización de las componentes en el espacio latente para diferentes configuraciones de $q$. ¿Que puede observar al respecto?\n",
        "\n",
        "  (b) Entrene dos modelos lineales de clasificación Bayesiano y Regresión Logística, con el fin de evaluar el desempeño en el reconocimiento de los tipos de sismos tanto en el espacio de entrada (sin utilizar PCA), cómo en el espacio latente."
      ],
      "metadata": {
        "id": "_0sECtcqtSQw"
      }
    },
    {
      "cell_type": "code",
      "source": [
        "from google.colab import drive\n",
        "drive.mount('/content/drive')"
      ],
      "metadata": {
        "colab": {
          "base_uri": "https://localhost:8080/"
        },
        "id": "Ye2eg9cPAThO",
        "outputId": "a3b341b1-9ae6-4992-a2fb-91f348127c91"
      },
      "execution_count": 1,
      "outputs": [
        {
          "output_type": "stream",
          "name": "stdout",
          "text": [
            "Drive already mounted at /content/drive; to attempt to forcibly remount, call drive.mount(\"/content/drive\", force_remount=True).\n"
          ]
        }
      ]
    },
    {
      "cell_type": "code",
      "source": [
        "from sklearn.linear_model import LogisticRegression\n",
        "from sklearn.naive_bayes import GaussianNB\n",
        "import numpy as np\n",
        "import seaborn as sns\n",
        "\n",
        "from ipywidgets import widgets\n",
        "\n",
        "from time import time\n",
        "import matplotlib.pyplot as plt\n",
        "\n",
        "from sklearn.model_selection import train_test_split\n",
        "from sklearn.model_selection import RandomizedSearchCV\n",
        "from sklearn.datasets import fetch_lfw_people\n",
        "from sklearn.metrics import classification_report\n",
        "from sklearn.metrics import ConfusionMatrixDisplay\n",
        "from sklearn.preprocessing import StandardScaler\n",
        "from sklearn.decomposition import PCA\n",
        "from sklearn.svm import SVC\n",
        "from sklearn.utils.fixes import loguniform\n",
        "from sklearn.metrics import accuracy_score\n",
        "from sklearn.metrics import confusion_matrix, ConfusionMatrixDisplay"
      ],
      "metadata": {
        "id": "Taf2oiNntE-H"
      },
      "execution_count": 2,
      "outputs": []
    },
    {
      "cell_type": "code",
      "source": [
        "import pandas as pd"
      ],
      "metadata": {
        "id": "pcU1YyroYRky"
      },
      "execution_count": 3,
      "outputs": []
    },
    {
      "cell_type": "code",
      "source": [
        "#Cargamos el data set\n",
        "df = pd.read_csv('/content/drive/MyDrive/miniproyecto2/datos.csv',sep = \",\")\n",
        "df\n"
      ],
      "metadata": {
        "colab": {
          "base_uri": "https://localhost:8080/",
          "height": 661
        },
        "id": "pEUhF0_ts_fu",
        "outputId": "91a6fbe6-4f33-4605-c438-7188b8259309"
      },
      "execution_count": 4,
      "outputs": [
        {
          "output_type": "execute_result",
          "data": {
            "text/plain": [
              "          energia  potencia_max  frecuencia_potencia_max  media_espectro  \\\n",
              "0    2.453833e+01  1.215966e-04                  3.90625    1.277524e-04   \n",
              "1    8.564020e-04  2.300617e-09                 39.06250    1.995403e-06   \n",
              "2    2.880990e-08  8.457749e-14                 46.87500    1.360911e-08   \n",
              "3    3.207340e+01  1.605253e-04                  3.90625    1.212212e-04   \n",
              "4    8.979448e-04  2.816926e-09                 39.06250    1.378747e-06   \n",
              "..            ...           ...                      ...             ...   \n",
              "184  1.926256e-03  2.967362e-09                 31.25000    1.660664e-06   \n",
              "185  3.375983e-08  4.714812e-14                 50.78125    7.353717e-09   \n",
              "186  3.892099e+01  7.931400e-05                  3.90625    1.669969e-04   \n",
              "187  2.440055e-03  3.053793e-09                 35.15625    2.640148e-06   \n",
              "188  5.052554e-08  7.243917e-14                 46.87500    1.266620e-08   \n",
              "\n",
              "     var_espectro  max_espectro      entropia  min_espectro  no_cero_crossing  \\\n",
              "0    5.301983e-06      0.146451  5.307721e-22      9.605620             204.0   \n",
              "1    2.059800e-10      0.000409  2.412856e-25      9.605620             468.0   \n",
              "2    6.728885e-15      0.000002  1.951416e-27      9.605620             624.0   \n",
              "3    6.937409e-06      0.168203  1.163691e-20      9.605620             182.0   \n",
              "4    2.261553e-10      0.000488  1.606779e-25      9.605620             427.0   \n",
              "..            ...           ...           ...           ...               ...   \n",
              "184  1.980359e-10      0.000472  1.728175e-31     10.373491            1170.0   \n",
              "185  3.654347e-15      0.000003  1.183745e-32     10.373491            1603.0   \n",
              "186  3.854130e-06      0.171831  1.273462e-15     10.373491            1109.0   \n",
              "187  2.427051e-10      0.000491  3.269328e-21     10.373491            2053.0   \n",
              "188  5.092502e-15      0.000003  1.438321e-21     10.373491            2740.0   \n",
              "\n",
              "     no_mean_crossing            n5           n25           n75           n95  \\\n",
              "0               195.0 -1.532338e-02 -1.873980e-04  3.472018e-04  2.293197e-02   \n",
              "1               451.0 -1.658915e-04 -3.784440e-09  1.310257e-08  1.720937e-04   \n",
              "2               605.0 -1.158634e-06 -1.808234e-10  8.316053e-11  1.184125e-06   \n",
              "3               172.0 -1.722534e-02 -3.344018e-04  1.247302e-04  1.840137e-02   \n",
              "4               409.0 -1.002054e-04 -3.544687e-09  1.386522e-08  1.001184e-04   \n",
              "..                ...           ...           ...           ...           ...   \n",
              "184            1143.0 -2.037452e-04 -1.745988e-06  3.025358e-06  1.990628e-04   \n",
              "185            1575.0 -7.761713e-07 -1.743021e-08  3.027556e-08  7.490469e-07   \n",
              "186            1109.0 -2.556461e-02 -4.035743e-03  4.038336e-03  2.518270e-02   \n",
              "187            2047.0 -3.360618e-04 -5.618561e-05  5.669137e-05  3.298703e-04   \n",
              "188            2735.0 -1.457429e-06 -2.723717e-07  2.724188e-07  1.447426e-06   \n",
              "\n",
              "          mediana         media       std      varianza           rms  \\\n",
              "0    2.066902e-12  2.804791e-04  0.040652  1.652557e-03  1.118556e-02   \n",
              "1    7.954222e-16 -4.570735e-07  0.000240  5.767773e-08  5.474878e-05   \n",
              "2   -2.194506e-18 -2.630612e-09  0.000001  1.940315e-12  3.675901e-07   \n",
              "3   -1.865526e-11 -1.025060e-04  0.046477  2.160105e-03  1.178870e-02   \n",
              "4    9.536273e-16  3.116154e-07  0.000246  6.047571e-08  3.501850e-05   \n",
              "..            ...           ...       ...           ...           ...   \n",
              "184  6.981364e-22  3.822240e-08  0.000245  6.019549e-08  7.668686e-05   \n",
              "185  6.110454e-24  1.371131e-10  0.000001  1.054995e-12  2.960438e-07   \n",
              "186  1.376711e-06 -6.915840e-06  0.034875  1.216281e-03  1.205614e-02   \n",
              "187  9.460301e-11  6.486854e-08  0.000276  7.625171e-08  1.266245e-04   \n",
              "188  4.093473e-13  1.536531e-10  0.000001  1.578923e-12  5.659896e-07   \n",
              "\n",
              "    Tipo_Sismo  \n",
              "0       sisLoc  \n",
              "1       sisLoc  \n",
              "2       sisLoc  \n",
              "3       sisLoc  \n",
              "4       sisLoc  \n",
              "..         ...  \n",
              "184     SisTel  \n",
              "185     SisTel  \n",
              "186     SisTel  \n",
              "187     SisTel  \n",
              "188     SisTel  \n",
              "\n",
              "[189 rows x 20 columns]"
            ],
            "text/html": [
              "\n",
              "  <div id=\"df-0e73ff2d-31e1-4ada-a8b2-e5dbd662c623\">\n",
              "    <div class=\"colab-df-container\">\n",
              "      <div>\n",
              "<style scoped>\n",
              "    .dataframe tbody tr th:only-of-type {\n",
              "        vertical-align: middle;\n",
              "    }\n",
              "\n",
              "    .dataframe tbody tr th {\n",
              "        vertical-align: top;\n",
              "    }\n",
              "\n",
              "    .dataframe thead th {\n",
              "        text-align: right;\n",
              "    }\n",
              "</style>\n",
              "<table border=\"1\" class=\"dataframe\">\n",
              "  <thead>\n",
              "    <tr style=\"text-align: right;\">\n",
              "      <th></th>\n",
              "      <th>energia</th>\n",
              "      <th>potencia_max</th>\n",
              "      <th>frecuencia_potencia_max</th>\n",
              "      <th>media_espectro</th>\n",
              "      <th>var_espectro</th>\n",
              "      <th>max_espectro</th>\n",
              "      <th>entropia</th>\n",
              "      <th>min_espectro</th>\n",
              "      <th>no_cero_crossing</th>\n",
              "      <th>no_mean_crossing</th>\n",
              "      <th>n5</th>\n",
              "      <th>n25</th>\n",
              "      <th>n75</th>\n",
              "      <th>n95</th>\n",
              "      <th>mediana</th>\n",
              "      <th>media</th>\n",
              "      <th>std</th>\n",
              "      <th>varianza</th>\n",
              "      <th>rms</th>\n",
              "      <th>Tipo_Sismo</th>\n",
              "    </tr>\n",
              "  </thead>\n",
              "  <tbody>\n",
              "    <tr>\n",
              "      <th>0</th>\n",
              "      <td>2.453833e+01</td>\n",
              "      <td>1.215966e-04</td>\n",
              "      <td>3.90625</td>\n",
              "      <td>1.277524e-04</td>\n",
              "      <td>5.301983e-06</td>\n",
              "      <td>0.146451</td>\n",
              "      <td>5.307721e-22</td>\n",
              "      <td>9.605620</td>\n",
              "      <td>204.0</td>\n",
              "      <td>195.0</td>\n",
              "      <td>-1.532338e-02</td>\n",
              "      <td>-1.873980e-04</td>\n",
              "      <td>3.472018e-04</td>\n",
              "      <td>2.293197e-02</td>\n",
              "      <td>2.066902e-12</td>\n",
              "      <td>2.804791e-04</td>\n",
              "      <td>0.040652</td>\n",
              "      <td>1.652557e-03</td>\n",
              "      <td>1.118556e-02</td>\n",
              "      <td>sisLoc</td>\n",
              "    </tr>\n",
              "    <tr>\n",
              "      <th>1</th>\n",
              "      <td>8.564020e-04</td>\n",
              "      <td>2.300617e-09</td>\n",
              "      <td>39.06250</td>\n",
              "      <td>1.995403e-06</td>\n",
              "      <td>2.059800e-10</td>\n",
              "      <td>0.000409</td>\n",
              "      <td>2.412856e-25</td>\n",
              "      <td>9.605620</td>\n",
              "      <td>468.0</td>\n",
              "      <td>451.0</td>\n",
              "      <td>-1.658915e-04</td>\n",
              "      <td>-3.784440e-09</td>\n",
              "      <td>1.310257e-08</td>\n",
              "      <td>1.720937e-04</td>\n",
              "      <td>7.954222e-16</td>\n",
              "      <td>-4.570735e-07</td>\n",
              "      <td>0.000240</td>\n",
              "      <td>5.767773e-08</td>\n",
              "      <td>5.474878e-05</td>\n",
              "      <td>sisLoc</td>\n",
              "    </tr>\n",
              "    <tr>\n",
              "      <th>2</th>\n",
              "      <td>2.880990e-08</td>\n",
              "      <td>8.457749e-14</td>\n",
              "      <td>46.87500</td>\n",
              "      <td>1.360911e-08</td>\n",
              "      <td>6.728885e-15</td>\n",
              "      <td>0.000002</td>\n",
              "      <td>1.951416e-27</td>\n",
              "      <td>9.605620</td>\n",
              "      <td>624.0</td>\n",
              "      <td>605.0</td>\n",
              "      <td>-1.158634e-06</td>\n",
              "      <td>-1.808234e-10</td>\n",
              "      <td>8.316053e-11</td>\n",
              "      <td>1.184125e-06</td>\n",
              "      <td>-2.194506e-18</td>\n",
              "      <td>-2.630612e-09</td>\n",
              "      <td>0.000001</td>\n",
              "      <td>1.940315e-12</td>\n",
              "      <td>3.675901e-07</td>\n",
              "      <td>sisLoc</td>\n",
              "    </tr>\n",
              "    <tr>\n",
              "      <th>3</th>\n",
              "      <td>3.207340e+01</td>\n",
              "      <td>1.605253e-04</td>\n",
              "      <td>3.90625</td>\n",
              "      <td>1.212212e-04</td>\n",
              "      <td>6.937409e-06</td>\n",
              "      <td>0.168203</td>\n",
              "      <td>1.163691e-20</td>\n",
              "      <td>9.605620</td>\n",
              "      <td>182.0</td>\n",
              "      <td>172.0</td>\n",
              "      <td>-1.722534e-02</td>\n",
              "      <td>-3.344018e-04</td>\n",
              "      <td>1.247302e-04</td>\n",
              "      <td>1.840137e-02</td>\n",
              "      <td>-1.865526e-11</td>\n",
              "      <td>-1.025060e-04</td>\n",
              "      <td>0.046477</td>\n",
              "      <td>2.160105e-03</td>\n",
              "      <td>1.178870e-02</td>\n",
              "      <td>sisLoc</td>\n",
              "    </tr>\n",
              "    <tr>\n",
              "      <th>4</th>\n",
              "      <td>8.979448e-04</td>\n",
              "      <td>2.816926e-09</td>\n",
              "      <td>39.06250</td>\n",
              "      <td>1.378747e-06</td>\n",
              "      <td>2.261553e-10</td>\n",
              "      <td>0.000488</td>\n",
              "      <td>1.606779e-25</td>\n",
              "      <td>9.605620</td>\n",
              "      <td>427.0</td>\n",
              "      <td>409.0</td>\n",
              "      <td>-1.002054e-04</td>\n",
              "      <td>-3.544687e-09</td>\n",
              "      <td>1.386522e-08</td>\n",
              "      <td>1.001184e-04</td>\n",
              "      <td>9.536273e-16</td>\n",
              "      <td>3.116154e-07</td>\n",
              "      <td>0.000246</td>\n",
              "      <td>6.047571e-08</td>\n",
              "      <td>3.501850e-05</td>\n",
              "      <td>sisLoc</td>\n",
              "    </tr>\n",
              "    <tr>\n",
              "      <th>...</th>\n",
              "      <td>...</td>\n",
              "      <td>...</td>\n",
              "      <td>...</td>\n",
              "      <td>...</td>\n",
              "      <td>...</td>\n",
              "      <td>...</td>\n",
              "      <td>...</td>\n",
              "      <td>...</td>\n",
              "      <td>...</td>\n",
              "      <td>...</td>\n",
              "      <td>...</td>\n",
              "      <td>...</td>\n",
              "      <td>...</td>\n",
              "      <td>...</td>\n",
              "      <td>...</td>\n",
              "      <td>...</td>\n",
              "      <td>...</td>\n",
              "      <td>...</td>\n",
              "      <td>...</td>\n",
              "      <td>...</td>\n",
              "    </tr>\n",
              "    <tr>\n",
              "      <th>184</th>\n",
              "      <td>1.926256e-03</td>\n",
              "      <td>2.967362e-09</td>\n",
              "      <td>31.25000</td>\n",
              "      <td>1.660664e-06</td>\n",
              "      <td>1.980359e-10</td>\n",
              "      <td>0.000472</td>\n",
              "      <td>1.728175e-31</td>\n",
              "      <td>10.373491</td>\n",
              "      <td>1170.0</td>\n",
              "      <td>1143.0</td>\n",
              "      <td>-2.037452e-04</td>\n",
              "      <td>-1.745988e-06</td>\n",
              "      <td>3.025358e-06</td>\n",
              "      <td>1.990628e-04</td>\n",
              "      <td>6.981364e-22</td>\n",
              "      <td>3.822240e-08</td>\n",
              "      <td>0.000245</td>\n",
              "      <td>6.019549e-08</td>\n",
              "      <td>7.668686e-05</td>\n",
              "      <td>SisTel</td>\n",
              "    </tr>\n",
              "    <tr>\n",
              "      <th>185</th>\n",
              "      <td>3.375983e-08</td>\n",
              "      <td>4.714812e-14</td>\n",
              "      <td>50.78125</td>\n",
              "      <td>7.353717e-09</td>\n",
              "      <td>3.654347e-15</td>\n",
              "      <td>0.000003</td>\n",
              "      <td>1.183745e-32</td>\n",
              "      <td>10.373491</td>\n",
              "      <td>1603.0</td>\n",
              "      <td>1575.0</td>\n",
              "      <td>-7.761713e-07</td>\n",
              "      <td>-1.743021e-08</td>\n",
              "      <td>3.027556e-08</td>\n",
              "      <td>7.490469e-07</td>\n",
              "      <td>6.110454e-24</td>\n",
              "      <td>1.371131e-10</td>\n",
              "      <td>0.000001</td>\n",
              "      <td>1.054995e-12</td>\n",
              "      <td>2.960438e-07</td>\n",
              "      <td>SisTel</td>\n",
              "    </tr>\n",
              "    <tr>\n",
              "      <th>186</th>\n",
              "      <td>3.892099e+01</td>\n",
              "      <td>7.931400e-05</td>\n",
              "      <td>3.90625</td>\n",
              "      <td>1.669969e-04</td>\n",
              "      <td>3.854130e-06</td>\n",
              "      <td>0.171831</td>\n",
              "      <td>1.273462e-15</td>\n",
              "      <td>10.373491</td>\n",
              "      <td>1109.0</td>\n",
              "      <td>1109.0</td>\n",
              "      <td>-2.556461e-02</td>\n",
              "      <td>-4.035743e-03</td>\n",
              "      <td>4.038336e-03</td>\n",
              "      <td>2.518270e-02</td>\n",
              "      <td>1.376711e-06</td>\n",
              "      <td>-6.915840e-06</td>\n",
              "      <td>0.034875</td>\n",
              "      <td>1.216281e-03</td>\n",
              "      <td>1.205614e-02</td>\n",
              "      <td>SisTel</td>\n",
              "    </tr>\n",
              "    <tr>\n",
              "      <th>187</th>\n",
              "      <td>2.440055e-03</td>\n",
              "      <td>3.053793e-09</td>\n",
              "      <td>35.15625</td>\n",
              "      <td>2.640148e-06</td>\n",
              "      <td>2.427051e-10</td>\n",
              "      <td>0.000491</td>\n",
              "      <td>3.269328e-21</td>\n",
              "      <td>10.373491</td>\n",
              "      <td>2053.0</td>\n",
              "      <td>2047.0</td>\n",
              "      <td>-3.360618e-04</td>\n",
              "      <td>-5.618561e-05</td>\n",
              "      <td>5.669137e-05</td>\n",
              "      <td>3.298703e-04</td>\n",
              "      <td>9.460301e-11</td>\n",
              "      <td>6.486854e-08</td>\n",
              "      <td>0.000276</td>\n",
              "      <td>7.625171e-08</td>\n",
              "      <td>1.266245e-04</td>\n",
              "      <td>SisTel</td>\n",
              "    </tr>\n",
              "    <tr>\n",
              "      <th>188</th>\n",
              "      <td>5.052554e-08</td>\n",
              "      <td>7.243917e-14</td>\n",
              "      <td>46.87500</td>\n",
              "      <td>1.266620e-08</td>\n",
              "      <td>5.092502e-15</td>\n",
              "      <td>0.000003</td>\n",
              "      <td>1.438321e-21</td>\n",
              "      <td>10.373491</td>\n",
              "      <td>2740.0</td>\n",
              "      <td>2735.0</td>\n",
              "      <td>-1.457429e-06</td>\n",
              "      <td>-2.723717e-07</td>\n",
              "      <td>2.724188e-07</td>\n",
              "      <td>1.447426e-06</td>\n",
              "      <td>4.093473e-13</td>\n",
              "      <td>1.536531e-10</td>\n",
              "      <td>0.000001</td>\n",
              "      <td>1.578923e-12</td>\n",
              "      <td>5.659896e-07</td>\n",
              "      <td>SisTel</td>\n",
              "    </tr>\n",
              "  </tbody>\n",
              "</table>\n",
              "<p>189 rows × 20 columns</p>\n",
              "</div>\n",
              "      <button class=\"colab-df-convert\" onclick=\"convertToInteractive('df-0e73ff2d-31e1-4ada-a8b2-e5dbd662c623')\"\n",
              "              title=\"Convert this dataframe to an interactive table.\"\n",
              "              style=\"display:none;\">\n",
              "        \n",
              "  <svg xmlns=\"http://www.w3.org/2000/svg\" height=\"24px\"viewBox=\"0 0 24 24\"\n",
              "       width=\"24px\">\n",
              "    <path d=\"M0 0h24v24H0V0z\" fill=\"none\"/>\n",
              "    <path d=\"M18.56 5.44l.94 2.06.94-2.06 2.06-.94-2.06-.94-.94-2.06-.94 2.06-2.06.94zm-11 1L8.5 8.5l.94-2.06 2.06-.94-2.06-.94L8.5 2.5l-.94 2.06-2.06.94zm10 10l.94 2.06.94-2.06 2.06-.94-2.06-.94-.94-2.06-.94 2.06-2.06.94z\"/><path d=\"M17.41 7.96l-1.37-1.37c-.4-.4-.92-.59-1.43-.59-.52 0-1.04.2-1.43.59L10.3 9.45l-7.72 7.72c-.78.78-.78 2.05 0 2.83L4 21.41c.39.39.9.59 1.41.59.51 0 1.02-.2 1.41-.59l7.78-7.78 2.81-2.81c.8-.78.8-2.07 0-2.86zM5.41 20L4 18.59l7.72-7.72 1.47 1.35L5.41 20z\"/>\n",
              "  </svg>\n",
              "      </button>\n",
              "      \n",
              "  <style>\n",
              "    .colab-df-container {\n",
              "      display:flex;\n",
              "      flex-wrap:wrap;\n",
              "      gap: 12px;\n",
              "    }\n",
              "\n",
              "    .colab-df-convert {\n",
              "      background-color: #E8F0FE;\n",
              "      border: none;\n",
              "      border-radius: 50%;\n",
              "      cursor: pointer;\n",
              "      display: none;\n",
              "      fill: #1967D2;\n",
              "      height: 32px;\n",
              "      padding: 0 0 0 0;\n",
              "      width: 32px;\n",
              "    }\n",
              "\n",
              "    .colab-df-convert:hover {\n",
              "      background-color: #E2EBFA;\n",
              "      box-shadow: 0px 1px 2px rgba(60, 64, 67, 0.3), 0px 1px 3px 1px rgba(60, 64, 67, 0.15);\n",
              "      fill: #174EA6;\n",
              "    }\n",
              "\n",
              "    [theme=dark] .colab-df-convert {\n",
              "      background-color: #3B4455;\n",
              "      fill: #D2E3FC;\n",
              "    }\n",
              "\n",
              "    [theme=dark] .colab-df-convert:hover {\n",
              "      background-color: #434B5C;\n",
              "      box-shadow: 0px 1px 3px 1px rgba(0, 0, 0, 0.15);\n",
              "      filter: drop-shadow(0px 1px 2px rgba(0, 0, 0, 0.3));\n",
              "      fill: #FFFFFF;\n",
              "    }\n",
              "  </style>\n",
              "\n",
              "      <script>\n",
              "        const buttonEl =\n",
              "          document.querySelector('#df-0e73ff2d-31e1-4ada-a8b2-e5dbd662c623 button.colab-df-convert');\n",
              "        buttonEl.style.display =\n",
              "          google.colab.kernel.accessAllowed ? 'block' : 'none';\n",
              "\n",
              "        async function convertToInteractive(key) {\n",
              "          const element = document.querySelector('#df-0e73ff2d-31e1-4ada-a8b2-e5dbd662c623');\n",
              "          const dataTable =\n",
              "            await google.colab.kernel.invokeFunction('convertToInteractive',\n",
              "                                                     [key], {});\n",
              "          if (!dataTable) return;\n",
              "\n",
              "          const docLinkHtml = 'Like what you see? Visit the ' +\n",
              "            '<a target=\"_blank\" href=https://colab.research.google.com/notebooks/data_table.ipynb>data table notebook</a>'\n",
              "            + ' to learn more about interactive tables.';\n",
              "          element.innerHTML = '';\n",
              "          dataTable['output_type'] = 'display_data';\n",
              "          await google.colab.output.renderOutput(dataTable, element);\n",
              "          const docLink = document.createElement('div');\n",
              "          docLink.innerHTML = docLinkHtml;\n",
              "          element.appendChild(docLink);\n",
              "        }\n",
              "      </script>\n",
              "    </div>\n",
              "  </div>\n",
              "  "
            ]
          },
          "metadata": {},
          "execution_count": 4
        }
      ]
    },
    {
      "cell_type": "code",
      "source": [
        "df.info()"
      ],
      "metadata": {
        "colab": {
          "base_uri": "https://localhost:8080/"
        },
        "id": "uOHEgBMMLewY",
        "outputId": "b257ce90-015a-4f0e-a7d9-4b3a36d7833d"
      },
      "execution_count": 5,
      "outputs": [
        {
          "output_type": "stream",
          "name": "stdout",
          "text": [
            "<class 'pandas.core.frame.DataFrame'>\n",
            "RangeIndex: 189 entries, 0 to 188\n",
            "Data columns (total 20 columns):\n",
            " #   Column                   Non-Null Count  Dtype  \n",
            "---  ------                   --------------  -----  \n",
            " 0   energia                  189 non-null    float64\n",
            " 1   potencia_max             189 non-null    float64\n",
            " 2   frecuencia_potencia_max  189 non-null    float64\n",
            " 3   media_espectro           189 non-null    float64\n",
            " 4   var_espectro             189 non-null    float64\n",
            " 5   max_espectro             189 non-null    float64\n",
            " 6   entropia                 189 non-null    float64\n",
            " 7   min_espectro             189 non-null    float64\n",
            " 8   no_cero_crossing         189 non-null    float64\n",
            " 9   no_mean_crossing         189 non-null    float64\n",
            " 10  n5                       189 non-null    float64\n",
            " 11  n25                      189 non-null    float64\n",
            " 12  n75                      189 non-null    float64\n",
            " 13  n95                      189 non-null    float64\n",
            " 14  mediana                  189 non-null    float64\n",
            " 15  media                    189 non-null    float64\n",
            " 16  std                      189 non-null    float64\n",
            " 17  varianza                 189 non-null    float64\n",
            " 18  rms                      189 non-null    float64\n",
            " 19  Tipo_Sismo               189 non-null    object \n",
            "dtypes: float64(19), object(1)\n",
            "memory usage: 29.7+ KB\n"
          ]
        }
      ]
    },
    {
      "cell_type": "code",
      "source": [
        "X = df.iloc[:, :-1].values\n",
        "y = df['Tipo_Sismo'].values"
      ],
      "metadata": {
        "id": "B-1BT6rtt9uP"
      },
      "execution_count": 6,
      "outputs": []
    },
    {
      "cell_type": "code",
      "source": [
        "def plot_pca(n_components):\n",
        "  # crea el objeto PCA y establce el número de componentes a utilizar\n",
        "  pca = PCA(n_components=n_components)\n",
        "\n",
        "  #Aplica PCA a los datos normalizados\n",
        "  X_pca = pca.fit_transform(X)\n",
        "\n",
        "  # Transformar los datos al espacio latente\n",
        "  X_latent = pca.transform(X)\n",
        "\n",
        "  #Convertir los datos transformados a un Dataframe\n",
        "  column_names = ['PC{}'.format(i+1) for i in range(n_components)]\n",
        "  column_names.append('label')\n",
        "  df_latent = pd.DataFrame(np.column_stack((X_pca,df.iloc[:,-1].values)),columns = column_names)\n",
        "\n",
        "  # Agregar la etiqueta al DataFrame\n",
        "  df_latent['label'] = df.iloc[:,-1].values\n",
        "\n",
        "  # Limpia la figura actual\n",
        "  plt.clf()\n",
        "\n",
        "  # Visualizar con pairplot\n",
        "  sns.pairplot(df_latent,hue='label')\n",
        "\n",
        "  #Crear widget interactivo \n",
        "widgets.interact(plot_pca,n_components = np.arange(2,20,1))"
      ],
      "metadata": {
        "colab": {
          "base_uri": "https://localhost:8080/",
          "height": 580,
          "referenced_widgets": [
            "81f71fc419c849249b27c1eb95891f31",
            "6d035d7bfa0344e4866f8cbfba7d3976",
            "f3b3ddcb7ab8421e8238a292693c56a3",
            "896563325baa40fcaa6d5328d6acbc94",
            "9f2a81bae747451a9439007e3fad9988",
            "ae7897024e4b4f3e9953b3278c2deb29",
            "5aa592af84334227a8a2544006933efe"
          ]
        },
        "id": "iHG9UjDFlvV0",
        "outputId": "f5eaca91-429f-493f-9e09-dfa380cb3266"
      },
      "execution_count": 7,
      "outputs": [
        {
          "output_type": "display_data",
          "data": {
            "text/plain": [
              "interactive(children=(Dropdown(description='n_components', options=(2, 3, 4, 5, 6, 7, 8, 9, 10, 11, 12, 13, 14…"
            ],
            "application/vnd.jupyter.widget-view+json": {
              "version_major": 2,
              "version_minor": 0,
              "model_id": "81f71fc419c849249b27c1eb95891f31"
            }
          },
          "metadata": {}
        },
        {
          "output_type": "execute_result",
          "data": {
            "text/plain": [
              "<function __main__.plot_pca(n_components)>"
            ]
          },
          "metadata": {},
          "execution_count": 7
        },
        {
          "output_type": "display_data",
          "data": {
            "text/plain": [
              "<Figure size 640x480 with 0 Axes>"
            ]
          },
          "metadata": {}
        },
        {
          "output_type": "display_data",
          "data": {
            "text/plain": [
              "<Figure size 594.5x500 with 6 Axes>"
            ],
            "image/png": "[encoded data removed]"
          },
          "metadata": {}
        }
      ]
    },
    {
      "cell_type": "code",
      "source": [
        "def train_test_split_and_fit(X_col,test_size):\n",
        "  X_train, X_test, y_train, y_test = train_test_split(X[:,:X_col], y, test_size=test_size,random_state=40)\n",
        "  # Entrenar el clasificador Bayesiano\n",
        "  clfNB = GaussianNB()\n",
        "  clfNB.fit(X_train, y_train) # para entrenar enviamos el conjunto de Entrenamiento\n",
        "  # Entrenar el clasificador de Regresión Logística\n",
        "  clfLR = LogisticRegression(random_state=0)\n",
        "  clfLR.fit(X_train, y_train) # para entrenar enviamos el conjunto de Entrenamiento\n",
        "  \n",
        "  yPredTest_NB = clfNB.predict(X_test)\n",
        "  yPredTest_LR= clfLR.predict(X_test)\n",
        "\n",
        "  accTest_NB = accuracy_score(y_test,yPredTest_NB)\n",
        "  accTest_LR = accuracy_score(y_test,yPredTest_LR)\n",
        "  \n",
        "  print('Acc para el modelo Bayesiano: ',accTest_NB)  \n",
        "  print('Acc para el modelo de Regresión Logística: ',accTest_LR)\n",
        "\n",
        "  cmNB = confusion_matrix(y_test, yPredTest_NB)\n",
        "  disp = ConfusionMatrixDisplay(confusion_matrix=cmNB, display_labels = df['Tipo_Sismo'].unique())\n",
        "  disp.plot()\n",
        "  plt.title('Matriz Confusión NB')\n",
        "  plt.show()\n",
        "\n",
        "  cmLR = confusion_matrix(y_test, yPredTest_LR)\n",
        "  disp = ConfusionMatrixDisplay(confusion_matrix=cmLR,display_labels = df['Tipo_Sismo'].unique())\n",
        "  disp.plot()\n",
        "  plt.title('Matriz Confusión LR')\n",
        "  plt.show()\n",
        "\n",
        "\n",
        "X_col_widget = widgets.IntSlider(value=7,\n",
        "    min=0,\n",
        "    max=X.shape[1],\n",
        "    step=1,\n",
        "    description='Componentes:',\n",
        "    disabled=False,\n",
        "    continuous_update=False,\n",
        "    orientation='horizontal',\n",
        "    readout=True,\n",
        "    readout_format='d')\n",
        "\n",
        "test_size_widget = widgets.FloatSlider(value=0.3,\n",
        "    min=0.1,\n",
        "    max=0.5,\n",
        "    step=0.1,\n",
        "    description='Test:',\n",
        "    disabled=False,\n",
        "    continuous_update=False,\n",
        "    orientation='horizontal',\n",
        "    readout=True,\n",
        "    readout_format='.1f',)\n",
        "\n",
        "interactive_func = widgets.interactive(train_test_split_and_fit,X_col=X_col_widget,test_size =test_size_widget)\n",
        "display(interactive_func)"
      ],
      "metadata": {
        "colab": {
          "base_uri": "https://localhost:8080/",
          "height": 1000,
          "referenced_widgets": [
            "48ddb7afa1fd49bba3d07f14553c8d3b",
            "1807b716efb1409aa3df6898c1eaa0b0",
            "ca0822079895488780dcce7c7fe68a2f",
            "60843bf06b634dbeaccb58e944e9af7c",
            "01284ced2a634764ad68d37e313e9bfa",
            "3c76af975b36460e98348ebb2de55346",
            "19d33d5b33a54ed3870b7d486e136735",
            "0b02d3dc3ebc4592a80f2f71f7a9f177",
            "50de921bfb4e4979a7c13b1ecd9762bf",
            "7cd118c4d6c3485e990251933603018c"
          ]
        },
        "id": "npgrsQmp_03W",
        "outputId": "96de8007-76ef-42f0-851a-dfb148ff1e5c"
      },
      "execution_count": 19,
      "outputs": [
        {
          "output_type": "display_data",
          "data": {
            "text/plain": [
              "interactive(children=(IntSlider(value=7, continuous_update=False, description='Componentes:', max=19), FloatSl…"
            ],
            "application/vnd.jupyter.widget-view+json": {
              "version_major": 2,
              "version_minor": 0,
              "model_id": "48ddb7afa1fd49bba3d07f14553c8d3b"
            }
          },
          "metadata": {}
        }
      ]
    },
    {
      "cell_type": "code",
      "source": [],
      "metadata": {
        "id": "eaOr9Ql24g9v"
      },
      "execution_count": null,
      "outputs": []
    },
    {
      "cell_type": "code",
      "source": [],
      "metadata": {
        "id": "kKu4jXeNrl1C"
      },
      "execution_count": null,
      "outputs": []
    },
    {
      "cell_type": "code",
      "source": [
        "from sklearn.model_selection import train_test_split\n",
        "\n",
        "X_train, X_test, y_train, y_test = train_test_split(X, y, test_size=0.3,random_state=40)"
      ],
      "metadata": {
        "id": "-gZJmJYQzJiA"
      },
      "execution_count": 9,
      "outputs": []
    },
    {
      "cell_type": "code",
      "source": [
        "# Entrenar el clasificador Bayesiano\n",
        "clfNB = GaussianNB()\n",
        "clfNB.fit(X_train, y_train) # para entrenar enviamos el conjunto de Entrenamient\n",
        "\n",
        "# Entrenar el clasificador de Regresión Logística\n",
        "clfLR = LogisticRegression(random_state=0)\n",
        "clfLR.fit(X_train, y_train) # para entrenar enviamos el conjunto de Entrenamient"
      ],
      "metadata": {
        "id": "Azbn3LdwzO4e",
        "colab": {
          "base_uri": "https://localhost:8080/",
          "height": 213
        },
        "outputId": "f85c14d3-453f-440d-f9fb-14666afec9f9"
      },
      "execution_count": 10,
      "outputs": [
        {
          "output_type": "stream",
          "name": "stderr",
          "text": [
            "/usr/local/lib/python3.10/dist-packages/sklearn/linear_model/_logistic.py:458: ConvergenceWarning: lbfgs failed to converge (status=1):\n",
            "STOP: TOTAL NO. of ITERATIONS REACHED LIMIT.\n",
            "\n",
            "Increase the number of iterations (max_iter) or scale the data as shown in:\n",
            "    https://scikit-learn.org/stable/modules/preprocessing.html\n",
            "Please also refer to the documentation for alternative solver options:\n",
            "    https://scikit-learn.org/stable/modules/linear_model.html#logistic-regression\n",
            "  n_iter_i = _check_optimize_result(\n"
          ]
        },
        {
          "output_type": "execute_result",
          "data": {
            "text/plain": [
              "LogisticRegression(random_state=0)"
            ],
            "text/html": [
              "<style>#sk-container-id-1 {color: black;background-color: white;}#sk-container-id-1 pre{padding: 0;}#sk-container-id-1 div.sk-toggleable {background-color: white;}#sk-container-id-1 label.sk-toggleable__label {cursor: pointer;display: block;width: 100%;margin-bottom: 0;padding: 0.3em;box-sizing: border-box;text-align: center;}#sk-container-id-1 label.sk-toggleable__label-arrow:before {content: \"▸\";float: left;margin-right: 0.25em;color: #696969;}#sk-container-id-1 label.sk-toggleable__label-arrow:hover:before {color: black;}#sk-container-id-1 div.sk-estimator:hover label.sk-toggleable__label-arrow:before {color: black;}#sk-container-id-1 div.sk-toggleable__content {max-height: 0;max-width: 0;overflow: hidden;text-align: left;background-color: #f0f8ff;}#sk-container-id-1 div.sk-toggleable__content pre {margin: 0.2em;color: black;border-radius: 0.25em;background-color: #f0f8ff;}#sk-container-id-1 input.sk-toggleable__control:checked~div.sk-toggleable__content {max-height: 200px;max-width: 100%;overflow: auto;}#sk-container-id-1 input.sk-toggleable__control:checked~label.sk-toggleable__label-arrow:before {content: \"▾\";}#sk-container-id-1 div.sk-estimator input.sk-toggleable__control:checked~label.sk-toggleable__label {background-color: #d4ebff;}#sk-container-id-1 div.sk-label input.sk-toggleable__control:checked~label.sk-toggleable__label {background-color: #d4ebff;}#sk-container-id-1 input.sk-hidden--visually {border: 0;clip: rect(1px 1px 1px 1px);clip: rect(1px, 1px, 1px, 1px);height: 1px;margin: -1px;overflow: hidden;padding: 0;position: absolute;width: 1px;}#sk-container-id-1 div.sk-estimator {font-family: monospace;background-color: #f0f8ff;border: 1px dotted black;border-radius: 0.25em;box-sizing: border-box;margin-bottom: 0.5em;}#sk-container-id-1 div.sk-estimator:hover {background-color: #d4ebff;}#sk-container-id-1 div.sk-parallel-item::after {content: \"\";width: 100%;border-bottom: 1px solid gray;flex-grow: 1;}#sk-container-id-1 div.sk-label:hover label.sk-toggleable__label {background-color: #d4ebff;}#sk-container-id-1 div.sk-serial::before {content: \"\";position: absolute;border-left: 1px solid gray;box-sizing: border-box;top: 0;bottom: 0;left: 50%;z-index: 0;}#sk-container-id-1 div.sk-serial {display: flex;flex-direction: column;align-items: center;background-color: white;padding-right: 0.2em;padding-left: 0.2em;position: relative;}#sk-container-id-1 div.sk-item {position: relative;z-index: 1;}#sk-container-id-1 div.sk-parallel {display: flex;align-items: stretch;justify-content: center;background-color: white;position: relative;}#sk-container-id-1 div.sk-item::before, #sk-container-id-1 div.sk-parallel-item::before {content: \"\";position: absolute;border-left: 1px solid gray;box-sizing: border-box;top: 0;bottom: 0;left: 50%;z-index: -1;}#sk-container-id-1 div.sk-parallel-item {display: flex;flex-direction: column;z-index: 1;position: relative;background-color: white;}#sk-container-id-1 div.sk-parallel-item:first-child::after {align-self: flex-end;width: 50%;}#sk-container-id-1 div.sk-parallel-item:last-child::after {align-self: flex-start;width: 50%;}#sk-container-id-1 div.sk-parallel-item:only-child::after {width: 0;}#sk-container-id-1 div.sk-dashed-wrapped {border: 1px dashed gray;margin: 0 0.4em 0.5em 0.4em;box-sizing: border-box;padding-bottom: 0.4em;background-color: white;}#sk-container-id-1 div.sk-label label {font-family: monospace;font-weight: bold;display: inline-block;line-height: 1.2em;}#sk-container-id-1 div.sk-label-container {text-align: center;}#sk-container-id-1 div.sk-container {/* jupyter's `normalize.less` sets `[hidden] { display: none; }` but bootstrap.min.css set `[hidden] { display: none !important; }` so we also need the `!important` here to be able to override the default hidden behavior on the sphinx rendered scikit-learn.org. See: https://github.com/scikit-learn/scikit-learn/issues/21755 */display: inline-block !important;position: relative;}#sk-container-id-1 div.sk-text-repr-fallback {display: none;}</style><div id=\"sk-container-id-1\" class=\"sk-top-container\"><div class=\"sk-text-repr-fallback\"><pre>LogisticRegression(random_state=0)</pre><b>In a Jupyter environment, please rerun this cell to show the HTML representation or trust the notebook. <br />On GitHub, the HTML representation is unable to render, please try loading this page with nbviewer.org.</b></div><div class=\"sk-container\" hidden><div class=\"sk-item\"><div class=\"sk-estimator sk-toggleable\"><input class=\"sk-toggleable__control sk-hidden--visually\" id=\"sk-estimator-id-1\" type=\"checkbox\" checked><label for=\"sk-estimator-id-1\" class=\"sk-toggleable__label sk-toggleable__label-arrow\">LogisticRegression</label><div class=\"sk-toggleable__content\"><pre>LogisticRegression(random_state=0)</pre></div></div></div></div></div>"
            ]
          },
          "metadata": {},
          "execution_count": 10
        }
      ]
    },
    {
      "cell_type": "markdown",
      "source": [
        "## Evaluacion del Desempeño\n",
        "\n",
        "1. Accuracy score\n",
        "2. Confussion Matrix"
      ],
      "metadata": {
        "id": "tiP-UGh_6EbH"
      }
    },
    {
      "cell_type": "code",
      "source": [
        "from sklearn.metrics import accuracy_score\n",
        "from sklearn.metrics import confusion_matrix, ConfusionMatrixDisplay\n",
        "\n",
        "yPredTest_NB = clfNB.predict(X_test)\n",
        "yPredTest_LR= clfLR.predict(X_test)\n",
        "\n",
        "accTest_NB = accuracy_score(y_test,yPredTest_NB)\n",
        "accTest_LR = accuracy_score(y_test,yPredTest_LR)\n",
        "\n",
        "print('Acc para el modelo Bayesiano: ',accTest_NB)\n",
        "print('Acc para el modelo de Regresión Logística: ',accTest_LR)"
      ],
      "metadata": {
        "id": "-g7EibdB5iSf",
        "colab": {
          "base_uri": "https://localhost:8080/"
        },
        "outputId": "cb7a0485-7464-4597-b27e-7e7446c73807"
      },
      "execution_count": 11,
      "outputs": [
        {
          "output_type": "stream",
          "name": "stdout",
          "text": [
            "Acc para el modelo Bayesiano:  0.9473684210526315\n",
            "Acc para el modelo de Regresión Logística:  0.8070175438596491\n"
          ]
        }
      ]
    },
    {
      "cell_type": "code",
      "source": [
        "import matplotlib.pyplot as plt\n",
        "cmNB = confusion_matrix(y_test, yPredTest_NB)\n",
        "disp = ConfusionMatrixDisplay(confusion_matrix=cmNB, display_labels = df['Tipo_Sismo'].unique())\n",
        "disp.plot()\n",
        "plt.title('Matriz Confusión NB')\n",
        "plt.show()"
      ],
      "metadata": {
        "id": "fzM1DdET66YP",
        "colab": {
          "base_uri": "https://localhost:8080/",
          "height": 472
        },
        "outputId": "dc7bc976-4bc4-4ce7-c365-0e1742dfaa2a"
      },
      "execution_count": 12,
      "outputs": [
        {
          "output_type": "display_data",
          "data": {
            "text/plain": [
              "<Figure size 640x480 with 2 Axes>"
            ],
            "image/png": "[encoded data removed]"
          },
          "metadata": {}
        }
      ]
    },
    {
      "cell_type": "code",
      "source": [
        "import matplotlib.pyplot as plt\n",
        "cmLR = confusion_matrix(y_test, yPredTest_LR)\n",
        "disp = ConfusionMatrixDisplay(confusion_matrix=cmLR,display_labels = df['Tipo_Sismo'].unique())\n",
        "disp.plot()\n",
        "plt.title('Matriz Confusión LR')\n",
        "plt.show()"
      ],
      "metadata": {
        "id": "xvU6rDdFY5Wi",
        "colab": {
          "base_uri": "https://localhost:8080/",
          "height": 472
        },
        "outputId": "7184e432-844c-47e7-ece7-910896ef64f2"
      },
      "execution_count": 13,
      "outputs": [
        {
          "output_type": "display_data",
          "data": {
            "text/plain": [
              "<Figure size 640x480 with 2 Axes>"
            ],
            "image/png": "[encoded data removed]"
          },
          "metadata": {}
        }
      ]
    },
    {
      "cell_type": "code",
      "source": [
        "from sklearn.preprocessing import StandardScaler\n",
        "from sklearn.decomposition import PCA"
      ],
      "metadata": {
        "id": "BWkEySnEOJWe"
      },
      "execution_count": 14,
      "outputs": []
    }
  ]
}